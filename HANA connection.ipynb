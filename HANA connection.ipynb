{
 "cells": [
  {
   "cell_type": "code",
   "execution_count": null,
   "id": "77712974-ace3-4532-8afa-b8fefd1d637c",
   "metadata": {},
   "outputs": [],
   "source": [
    "# Importing the necessary module for SAP HANA data handling\n",
    "from hana_ml import dataframe\n",
    "\n",
    "# Establishing connection to the SAP HANA database\n",
    "try:\n",
    "    conn = dataframe.ConnectionContext(\n",
    "        address=\"172.16.10.5\",  # IP address of the SAP HANA server\n",
    "        port=\"30015\",            # Port number for the connection\n",
    "        user=\"SYSTEM\",           # Username for authentication\n",
    "        password=\"Ldna@123\",     # Password for authentication\n",
    "        current_schema=\"GVFPPL_PRODUCTIVE_LIVE_03\"  # Schema to be used for the connection\n",
    "    )\n",
    "    print(\"Connection successful\")\n",
    "    \n",
    "    # Executing SQL query to retrieve data from the specified table\n",
    "    df = conn.sql(\"\"\"\n",
    "        SELECT TOP 10\n",
    "            T0.\"DocNum\",\n",
    "            T0.\"DocDate\",\n",
    "            T0.\"CardCode\",\n",
    "            T0.\"CardName\",\n",
    "            T0.\"DocTotal\"\n",
    "        FROM \"GVFPPL_PRODUCTIVE_LIVE_03\".\"OINV\" T0\n",
    "    \"\"\")\n",
    "    \n",
    "    # Fetching data and printing the first 10 rows\n",
    "    data = df.collect()\n",
    "    if data.empty:\n",
    "        print(\"No data found.\")\n",
    "    else:\n",
    "        for row in data.iterrows():\n",
    "            print(row)\n",
    "       \n",
    "except dataframe.dbapi.Error as e:\n",
    "    print(\"Data retrieval failed:\", e)\n",
    "except Exception as ex:\n",
    "    print(\"An unexpected error occurred:\", ex)\n"
   ]
  },
  {
   "cell_type": "code",
   "execution_count": null,
   "id": "784e2ca9-d7aa-4746-a164-93f40312c152",
   "metadata": {},
   "outputs": [],
   "source": []
  }
 ],
 "metadata": {
  "kernelspec": {
   "display_name": "Python 3 (ipykernel)",
   "language": "python",
   "name": "python3"
  },
  "language_info": {
   "codemirror_mode": {
    "name": "ipython",
    "version": 3
   },
   "file_extension": ".py",
   "mimetype": "text/x-python",
   "name": "python",
   "nbconvert_exporter": "python",
   "pygments_lexer": "ipython3",
   "version": "3.11.7"
  }
 },
 "nbformat": 4,
 "nbformat_minor": 5
}
